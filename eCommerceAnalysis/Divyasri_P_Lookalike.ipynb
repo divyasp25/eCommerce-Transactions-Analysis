{
 "cells": [
  {
   "cell_type": "markdown",
   "id": "748d97a9",
   "metadata": {},
   "source": [
    "<p>Importing all the necessary libraries and dataset path:</p>"
   ]
  },
  {
   "cell_type": "code",
   "execution_count": 19,
   "id": "79ce77a0",
   "metadata": {},
   "outputs": [],
   "source": [
    "import pandas as pd\n",
    "import numpy as np\n",
    "from sklearn.preprocessing import MinMaxScaler\n",
    "from sklearn.feature_extraction.text import CountVectorizer\n",
    "from sklearn.metrics.pairwise import cosine_similarity"
   ]
  },
  {
   "cell_type": "code",
   "execution_count": 3,
   "id": "a9f29c7c",
   "metadata": {},
   "outputs": [],
   "source": [
    "customers_df=pd.read_csv(\"D:/sahyadri/8-sem/Customers.csv\")\n",
    "products_df=pd.read_csv(\"D:/sahyadri/8-sem/Products.csv\")\n",
    "transactions_df=pd.read_csv(\"D:/sahyadri/8-sem/Transactions.csv\")"
   ]
  },
  {
   "cell_type": "markdown",
   "id": "cb3c52c6",
   "metadata": {},
   "source": [
    "<p>Preprocess - Conversions:</p>"
   ]
  },
  {
   "cell_type": "code",
   "execution_count": 21,
   "id": "153ffaab",
   "metadata": {},
   "outputs": [],
   "source": [
    "customers_df['SignupDate']=pd.to_datetime(customers_df['SignupDate'])\n",
    "transactions_df['TransactionDate']=pd.to_datetime(transactions_df['TransactionDate'])"
   ]
  },
  {
   "cell_type": "markdown",
   "id": "b9a70f61",
   "metadata": {},
   "source": [
    "<p>Merging transactions with product details on its ID and aggregating customer transactions:</p>"
   ]
  },
  {
   "cell_type": "code",
   "execution_count": 22,
   "id": "797d358a",
   "metadata": {},
   "outputs": [
    {
     "data": {
      "text/html": [
       "<div>\n",
       "<style scoped>\n",
       "    .dataframe tbody tr th:only-of-type {\n",
       "        vertical-align: middle;\n",
       "    }\n",
       "\n",
       "    .dataframe tbody tr th {\n",
       "        vertical-align: top;\n",
       "    }\n",
       "\n",
       "    .dataframe thead th {\n",
       "        text-align: right;\n",
       "    }\n",
       "</style>\n",
       "<table border=\"1\" class=\"dataframe\">\n",
       "  <thead>\n",
       "    <tr style=\"text-align: right;\">\n",
       "      <th></th>\n",
       "      <th>CustomerID</th>\n",
       "      <th>CustomerName</th>\n",
       "      <th>Region</th>\n",
       "      <th>SignupDate</th>\n",
       "      <th>Category</th>\n",
       "      <th>TotalValue</th>\n",
       "      <th>Quantity</th>\n",
       "    </tr>\n",
       "  </thead>\n",
       "  <tbody>\n",
       "    <tr>\n",
       "      <th>0</th>\n",
       "      <td>C0001</td>\n",
       "      <td>Lawrence Carroll</td>\n",
       "      <td>South America</td>\n",
       "      <td>2022-07-10</td>\n",
       "      <td>{'Electronics': 3, 'Books': 1, 'Home Decor': 1}</td>\n",
       "      <td>3354.52</td>\n",
       "      <td>12.0</td>\n",
       "    </tr>\n",
       "    <tr>\n",
       "      <th>1</th>\n",
       "      <td>C0002</td>\n",
       "      <td>Elizabeth Lutz</td>\n",
       "      <td>Asia</td>\n",
       "      <td>2022-02-13</td>\n",
       "      <td>{'Home Decor': 2, 'Clothing': 2}</td>\n",
       "      <td>1862.74</td>\n",
       "      <td>10.0</td>\n",
       "    </tr>\n",
       "    <tr>\n",
       "      <th>2</th>\n",
       "      <td>C0003</td>\n",
       "      <td>Michael Rivera</td>\n",
       "      <td>South America</td>\n",
       "      <td>2024-03-07</td>\n",
       "      <td>{'Home Decor': 2, 'Clothing': 1, 'Electronics'...</td>\n",
       "      <td>2725.38</td>\n",
       "      <td>14.0</td>\n",
       "    </tr>\n",
       "    <tr>\n",
       "      <th>3</th>\n",
       "      <td>C0004</td>\n",
       "      <td>Kathleen Rodriguez</td>\n",
       "      <td>South America</td>\n",
       "      <td>2022-10-09</td>\n",
       "      <td>{'Books': 3, 'Home Decor': 3, 'Electronics': 2}</td>\n",
       "      <td>5354.88</td>\n",
       "      <td>23.0</td>\n",
       "    </tr>\n",
       "    <tr>\n",
       "      <th>4</th>\n",
       "      <td>C0005</td>\n",
       "      <td>Laura Weber</td>\n",
       "      <td>Asia</td>\n",
       "      <td>2022-08-15</td>\n",
       "      <td>{'Electronics': 2, 'Home Decor': 1}</td>\n",
       "      <td>2034.24</td>\n",
       "      <td>7.0</td>\n",
       "    </tr>\n",
       "  </tbody>\n",
       "</table>\n",
       "</div>"
      ],
      "text/plain": [
       "  CustomerID        CustomerName         Region SignupDate  \\\n",
       "0      C0001    Lawrence Carroll  South America 2022-07-10   \n",
       "1      C0002      Elizabeth Lutz           Asia 2022-02-13   \n",
       "2      C0003      Michael Rivera  South America 2024-03-07   \n",
       "3      C0004  Kathleen Rodriguez  South America 2022-10-09   \n",
       "4      C0005         Laura Weber           Asia 2022-08-15   \n",
       "\n",
       "                                            Category  TotalValue  Quantity  \n",
       "0    {'Electronics': 3, 'Books': 1, 'Home Decor': 1}     3354.52      12.0  \n",
       "1                   {'Home Decor': 2, 'Clothing': 2}     1862.74      10.0  \n",
       "2  {'Home Decor': 2, 'Clothing': 1, 'Electronics'...     2725.38      14.0  \n",
       "3    {'Books': 3, 'Home Decor': 3, 'Electronics': 2}     5354.88      23.0  \n",
       "4                {'Electronics': 2, 'Home Decor': 1}     2034.24       7.0  "
      ]
     },
     "execution_count": 22,
     "metadata": {},
     "output_type": "execute_result"
    }
   ],
   "source": [
    "transactions_with_products=transactions_df.merge(products_df, on=\"ProductID\")\n",
    "customer_transactions=transactions_with_products.groupby(\"CustomerID\").agg({\n",
    "    \"Category\": lambda x: x.value_counts().to_dict(),\"TotalValue\":\"sum\",\"Quantity\":\"sum\",}).reset_index()\n",
    "customer_profiles=customers_df.merge(customer_transactions,on=\"CustomerID\",how=\"left\")\n",
    "customer_profiles.fillna({\"Category\":{},\"TotalValue\":0,\"Quantity\":0},inplace=True)\n",
    "customer_profiles.head()"
   ]
  },
  {
   "cell_type": "code",
   "execution_count": 23,
   "id": "db38f5a8",
   "metadata": {},
   "outputs": [],
   "source": [
    "customer_profiles[\"Category\"]=customer_profiles[\"Category\"].apply(lambda x: x if isinstance(x,dict) else {})"
   ]
  },
  {
   "cell_type": "code",
   "execution_count": 24,
   "id": "5efcd6b2",
   "metadata": {},
   "outputs": [],
   "source": [
    "def category_to_string(category_dict):\n",
    "    return \" \".join([f\"{k}_{v}\" for k, v in category_dict.items()])\n",
    "customer_profiles[\"CategoryStr\"]=customer_profiles[\"Category\"].apply(category_to_string)"
   ]
  },
  {
   "cell_type": "markdown",
   "id": "1609746e",
   "metadata": {},
   "source": [
    "<p>Vectorizing data and normalizing features:<p>"
   ]
  },
  {
   "cell_type": "code",
   "execution_count": 25,
   "id": "697f085f",
   "metadata": {},
   "outputs": [],
   "source": [
    "vectorizer=CountVectorizer()\n",
    "category_vectors=vectorizer.fit_transform(customer_profiles[\"CategoryStr\"])"
   ]
  },
  {
   "cell_type": "code",
   "execution_count": 26,
   "id": "a7009c4a",
   "metadata": {},
   "outputs": [],
   "source": [
    "numerical_features=customer_profiles[[\"TotalValue\",\"Quantity\"]].values\n",
    "scaler=MinMaxScaler()\n",
    "scaled_features=scaler.fit_transform(numerical_features)"
   ]
  },
  {
   "cell_type": "markdown",
   "id": "b164e0af",
   "metadata": {},
   "source": [
    "<p>Combining vectors and scaled features, then finding similarity matrices:</p>"
   ]
  },
  {
   "cell_type": "code",
   "execution_count": 27,
   "id": "10adce34",
   "metadata": {},
   "outputs": [],
   "source": [
    "final_features=np.hstack([category_vectors.toarray(),scaled_features])"
   ]
  },
  {
   "cell_type": "code",
   "execution_count": 28,
   "id": "ebd5fd58",
   "metadata": {},
   "outputs": [],
   "source": [
    "similarity_matrix=cosine_similarity(final_features)"
   ]
  },
  {
   "cell_type": "markdown",
   "id": "c2a38732",
   "metadata": {},
   "source": [
    "<p>Now we finally generate lookalike recommendations:</p>"
   ]
  },
  {
   "cell_type": "code",
   "execution_count": 29,
   "id": "74a6efdd",
   "metadata": {},
   "outputs": [],
   "source": [
    "customer_ids=customer_profiles[\"CustomerID\"].values\n",
    "top_customers={}"
   ]
  },
  {
   "cell_type": "code",
   "execution_count": 30,
   "id": "58e3a85d",
   "metadata": {},
   "outputs": [],
   "source": [
    "for i in range(20):\n",
    "    customer_id=customer_ids[i]\n",
    "    similarities=similarity_matrix[i]\n",
    "    similar_indices=np.argsort(similarities)[::-1][1:4]\n",
    "    top_customers[customer_id]=[(customer_ids[idx],round(similarities[idx],4)) for idx in similar_indices]"
   ]
  },
  {
   "cell_type": "markdown",
   "id": "f6ef7253",
   "metadata": {},
   "source": [
    "<p>We will create a dataframe for lookalike recommendations and save it as .csv file:</p>"
   ]
  },
  {
   "cell_type": "code",
   "execution_count": 31,
   "id": "343fed84",
   "metadata": {},
   "outputs": [
    {
     "name": "stdout",
     "output_type": "stream",
     "text": [
      "Lookalike recommendations saved to: D:/sahyadri/8-sem/Lookalike.csv\n"
     ]
    }
   ],
   "source": [
    "lookalike_df=pd.DataFrame({\"CustomerID\":list(top_customers.keys()),\"Top3_Lookalikes\":[str(v) for v in top_customers.values()]})\n",
    "lookalike_csv_path=\"D:/sahyadri/8-sem/Lookalike.csv\"\n",
    "lookalike_df.to_csv(lookalike_csv_path, index=False)\n",
    "print(f\"Lookalike recommendations saved to: {lookalike_csv_path}\")"
   ]
  },
  {
   "cell_type": "markdown",
   "id": "157c9a31",
   "metadata": {},
   "source": [
    "<h3>Viewing the Recommendations</h3>"
   ]
  },
  {
   "cell_type": "code",
   "execution_count": 15,
   "id": "ea878061",
   "metadata": {},
   "outputs": [],
   "source": [
    "lookalike_df=pd.read_csv(lookalike_csv_path)"
   ]
  },
  {
   "cell_type": "code",
   "execution_count": 16,
   "id": "d176c96b",
   "metadata": {},
   "outputs": [
    {
     "data": {
      "text/html": [
       "<div>\n",
       "<style scoped>\n",
       "    .dataframe tbody tr th:only-of-type {\n",
       "        vertical-align: middle;\n",
       "    }\n",
       "\n",
       "    .dataframe tbody tr th {\n",
       "        vertical-align: top;\n",
       "    }\n",
       "\n",
       "    .dataframe thead th {\n",
       "        text-align: right;\n",
       "    }\n",
       "</style>\n",
       "<table border=\"1\" class=\"dataframe\">\n",
       "  <thead>\n",
       "    <tr style=\"text-align: right;\">\n",
       "      <th></th>\n",
       "      <th>CustomerID</th>\n",
       "      <th>Top3_Lookalikes</th>\n",
       "    </tr>\n",
       "  </thead>\n",
       "  <tbody>\n",
       "    <tr>\n",
       "      <th>0</th>\n",
       "      <td>C0001</td>\n",
       "      <td>[('C0184', 0.899), ('C0123', 0.8612), ('C0015'...</td>\n",
       "    </tr>\n",
       "    <tr>\n",
       "      <th>1</th>\n",
       "      <td>C0002</td>\n",
       "      <td>[('C0133', 0.9984), ('C0106', 0.8717), ('C0103...</td>\n",
       "    </tr>\n",
       "    <tr>\n",
       "      <th>2</th>\n",
       "      <td>C0003</td>\n",
       "      <td>[('C0166', 0.9989), ('C0031', 0.9977), ('C0158...</td>\n",
       "    </tr>\n",
       "    <tr>\n",
       "      <th>3</th>\n",
       "      <td>C0004</td>\n",
       "      <td>[('C0047', 0.7624), ('C0191', 0.7378), ('C0175...</td>\n",
       "    </tr>\n",
       "    <tr>\n",
       "      <th>4</th>\n",
       "      <td>C0005</td>\n",
       "      <td>[('C0007', 0.9994), ('C0197', 0.9994), ('C0035...</td>\n",
       "    </tr>\n",
       "    <tr>\n",
       "      <th>5</th>\n",
       "      <td>C0006</td>\n",
       "      <td>[('C0135', 0.9984), ('C0057', 0.9017), ('C0118...</td>\n",
       "    </tr>\n",
       "    <tr>\n",
       "      <th>6</th>\n",
       "      <td>C0007</td>\n",
       "      <td>[('C0005', 0.9994), ('C0197', 0.9992), ('C0026...</td>\n",
       "    </tr>\n",
       "    <tr>\n",
       "      <th>7</th>\n",
       "      <td>C0008</td>\n",
       "      <td>[('C0054', 0.8178), ('C0184', 0.8067), ('C0105...</td>\n",
       "    </tr>\n",
       "    <tr>\n",
       "      <th>8</th>\n",
       "      <td>C0009</td>\n",
       "      <td>[('C0040', 0.9706), ('C0029', 0.814), ('C0020'...</td>\n",
       "    </tr>\n",
       "    <tr>\n",
       "      <th>9</th>\n",
       "      <td>C0010</td>\n",
       "      <td>[('C0056', 0.8274), ('C0013', 0.8204), ('C0030...</td>\n",
       "    </tr>\n",
       "    <tr>\n",
       "      <th>10</th>\n",
       "      <td>C0011</td>\n",
       "      <td>[('C0070', 0.8334), ('C0142', 0.8301), ('C0198...</td>\n",
       "    </tr>\n",
       "    <tr>\n",
       "      <th>11</th>\n",
       "      <td>C0012</td>\n",
       "      <td>[('C0104', 0.9082), ('C0136', 0.883), ('C0172'...</td>\n",
       "    </tr>\n",
       "    <tr>\n",
       "      <th>12</th>\n",
       "      <td>C0013</td>\n",
       "      <td>[('C0010', 0.8204), ('C0105', 0.7156), ('C0049...</td>\n",
       "    </tr>\n",
       "    <tr>\n",
       "      <th>13</th>\n",
       "      <td>C0014</td>\n",
       "      <td>[('C0060', 0.9999), ('C0097', 0.9997), ('C0151...</td>\n",
       "    </tr>\n",
       "    <tr>\n",
       "      <th>14</th>\n",
       "      <td>C0015</td>\n",
       "      <td>[('C0123', 0.9999), ('C0043', 0.8671), ('C0036...</td>\n",
       "    </tr>\n",
       "    <tr>\n",
       "      <th>15</th>\n",
       "      <td>C0016</td>\n",
       "      <td>[('C0183', 0.9994), ('C0107', 0.9993), ('C0088...</td>\n",
       "    </tr>\n",
       "    <tr>\n",
       "      <th>16</th>\n",
       "      <td>C0017</td>\n",
       "      <td>[('C0175', 0.8247), ('C0075', 0.8246), ('C0041...</td>\n",
       "    </tr>\n",
       "    <tr>\n",
       "      <th>17</th>\n",
       "      <td>C0018</td>\n",
       "      <td>[('C0057', 0.9028), ('C0118', 0.8912), ('C0073...</td>\n",
       "    </tr>\n",
       "    <tr>\n",
       "      <th>18</th>\n",
       "      <td>C0019</td>\n",
       "      <td>[('C0193', 0.7311), ('C0153', 0.5503), ('C0168...</td>\n",
       "    </tr>\n",
       "    <tr>\n",
       "      <th>19</th>\n",
       "      <td>C0020</td>\n",
       "      <td>[('C0130', 0.9991), ('C0198', 0.71), ('C0009',...</td>\n",
       "    </tr>\n",
       "  </tbody>\n",
       "</table>\n",
       "</div>"
      ],
      "text/plain": [
       "   CustomerID                                    Top3_Lookalikes\n",
       "0       C0001  [('C0184', 0.899), ('C0123', 0.8612), ('C0015'...\n",
       "1       C0002  [('C0133', 0.9984), ('C0106', 0.8717), ('C0103...\n",
       "2       C0003  [('C0166', 0.9989), ('C0031', 0.9977), ('C0158...\n",
       "3       C0004  [('C0047', 0.7624), ('C0191', 0.7378), ('C0175...\n",
       "4       C0005  [('C0007', 0.9994), ('C0197', 0.9994), ('C0035...\n",
       "5       C0006  [('C0135', 0.9984), ('C0057', 0.9017), ('C0118...\n",
       "6       C0007  [('C0005', 0.9994), ('C0197', 0.9992), ('C0026...\n",
       "7       C0008  [('C0054', 0.8178), ('C0184', 0.8067), ('C0105...\n",
       "8       C0009  [('C0040', 0.9706), ('C0029', 0.814), ('C0020'...\n",
       "9       C0010  [('C0056', 0.8274), ('C0013', 0.8204), ('C0030...\n",
       "10      C0011  [('C0070', 0.8334), ('C0142', 0.8301), ('C0198...\n",
       "11      C0012  [('C0104', 0.9082), ('C0136', 0.883), ('C0172'...\n",
       "12      C0013  [('C0010', 0.8204), ('C0105', 0.7156), ('C0049...\n",
       "13      C0014  [('C0060', 0.9999), ('C0097', 0.9997), ('C0151...\n",
       "14      C0015  [('C0123', 0.9999), ('C0043', 0.8671), ('C0036...\n",
       "15      C0016  [('C0183', 0.9994), ('C0107', 0.9993), ('C0088...\n",
       "16      C0017  [('C0175', 0.8247), ('C0075', 0.8246), ('C0041...\n",
       "17      C0018  [('C0057', 0.9028), ('C0118', 0.8912), ('C0073...\n",
       "18      C0019  [('C0193', 0.7311), ('C0153', 0.5503), ('C0168...\n",
       "19      C0020  [('C0130', 0.9991), ('C0198', 0.71), ('C0009',..."
      ]
     },
     "execution_count": 16,
     "metadata": {},
     "output_type": "execute_result"
    }
   ],
   "source": [
    "lookalike_df.head(20)"
   ]
  },
  {
   "cell_type": "markdown",
   "id": "e1a37a70",
   "metadata": {},
   "source": [
    "<h3>Testing the Recommendations</h3>"
   ]
  },
  {
   "cell_type": "code",
   "execution_count": 17,
   "id": "1a2112f3",
   "metadata": {},
   "outputs": [
    {
     "data": {
      "text/plain": [
       "{'CustomerProfile': {'CustomerID': 'C0001',\n",
       "  'TotalValue': 3354.5200000000004,\n",
       "  'Quantity': 12.0,\n",
       "  'CategoryStr': 'Electronics_3 Books_1 Home Decor_1'},\n",
       " 'Lookalikes': \"[('C0184', 0.899), ('C0123', 0.8612), ('C0015', 0.86)]\"}"
      ]
     },
     "execution_count": 17,
     "metadata": {},
     "output_type": "execute_result"
    }
   ],
   "source": [
    "def analyze_customer(customer_id):\n",
    "    customer_profile=customer_profiles[customer_profiles[\"CustomerID\"]==customer_id]\n",
    "    lookalikes=lookalike_df[lookalike_df[\"CustomerID\"]==customer_id][\"Top3_Lookalikes\"].values[0]    \n",
    "    return {\"CustomerProfile\":customer_profile[[\"CustomerID\",\"TotalValue\",\"Quantity\",\"CategoryStr\"]].iloc[0].to_dict(),\n",
    "        \"Lookalikes\": lookalikes}\n",
    "example_customer_id=customer_ids[0]\n",
    "example_analysis=analyze_customer(example_customer_id)\n",
    "example_analysis"
   ]
  },
  {
   "cell_type": "code",
   "execution_count": 18,
   "id": "0f436dee",
   "metadata": {},
   "outputs": [
    {
     "data": {
      "text/html": [
       "<div>\n",
       "<style scoped>\n",
       "    .dataframe tbody tr th:only-of-type {\n",
       "        vertical-align: middle;\n",
       "    }\n",
       "\n",
       "    .dataframe tbody tr th {\n",
       "        vertical-align: top;\n",
       "    }\n",
       "\n",
       "    .dataframe thead th {\n",
       "        text-align: right;\n",
       "    }\n",
       "</style>\n",
       "<table border=\"1\" class=\"dataframe\">\n",
       "  <thead>\n",
       "    <tr style=\"text-align: right;\">\n",
       "      <th></th>\n",
       "      <th>CustomerID</th>\n",
       "      <th>TotalValue</th>\n",
       "      <th>Quantity</th>\n",
       "      <th>CategoryStr</th>\n",
       "    </tr>\n",
       "  </thead>\n",
       "  <tbody>\n",
       "    <tr>\n",
       "      <th>14</th>\n",
       "      <td>C0015</td>\n",
       "      <td>1157.48</td>\n",
       "      <td>4.0</td>\n",
       "      <td>Books_1 Home Decor_1</td>\n",
       "    </tr>\n",
       "    <tr>\n",
       "      <th>122</th>\n",
       "      <td>C0123</td>\n",
       "      <td>1400.06</td>\n",
       "      <td>4.0</td>\n",
       "      <td>Books_1 Home Decor_1</td>\n",
       "    </tr>\n",
       "    <tr>\n",
       "      <th>183</th>\n",
       "      <td>C0184</td>\n",
       "      <td>3393.18</td>\n",
       "      <td>11.0</td>\n",
       "      <td>Electronics_3 Clothing_2 Home Decor_1 Books_1</td>\n",
       "    </tr>\n",
       "  </tbody>\n",
       "</table>\n",
       "</div>"
      ],
      "text/plain": [
       "    CustomerID  TotalValue  Quantity  \\\n",
       "14       C0015     1157.48       4.0   \n",
       "122      C0123     1400.06       4.0   \n",
       "183      C0184     3393.18      11.0   \n",
       "\n",
       "                                       CategoryStr  \n",
       "14                            Books_1 Home Decor_1  \n",
       "122                           Books_1 Home Decor_1  \n",
       "183  Electronics_3 Clothing_2 Home Decor_1 Books_1  "
      ]
     },
     "execution_count": 18,
     "metadata": {},
     "output_type": "execute_result"
    }
   ],
   "source": [
    "lookalike_ids = ['C0184', 'C0123', 'C0015']\n",
    "lookalike_profiles = customer_profiles[customer_profiles[\"CustomerID\"].isin(lookalike_ids)]\n",
    "lookalike_profiles[[\"CustomerID\", \"TotalValue\", \"Quantity\", \"CategoryStr\"]]"
   ]
  }
 ],
 "metadata": {
  "kernelspec": {
   "display_name": "Python 3 (ipykernel)",
   "language": "python",
   "name": "python3"
  },
  "language_info": {
   "codemirror_mode": {
    "name": "ipython",
    "version": 3
   },
   "file_extension": ".py",
   "mimetype": "text/x-python",
   "name": "python",
   "nbconvert_exporter": "python",
   "pygments_lexer": "ipython3",
   "version": "3.11.5"
  }
 },
 "nbformat": 4,
 "nbformat_minor": 5
}
